{
 "cells": [
  {
   "cell_type": "code",
   "execution_count": null,
   "metadata": {
    "collapsed": true
   },
   "outputs": [],
   "source": [
    "import time\n",
    "import json\n",
    "import argparse\n",
    "from kafka import SimpleProducer, KafkaClient"
   ]
  },
  {
   "cell_type": "code",
   "execution_count": null,
   "metadata": {
    "collapsed": true
   },
   "outputs": [],
   "source": [
    "def timed_call(fn, calls_per_second, *args, **kwargs):\n",
    "    start = time.time()\n",
    "    fn(*args, **kwargs)\n",
    "    fn_time = time.time() - start\n",
    "    sleep_duration = max(0, (1.0 - calls_per_second * fn_time) / calls_per_second)\n",
    "    print sleep_duration\n",
    "    while True:\n",
    "        fn(*args, **kwargs)\n",
    "        time.sleep(sleep_duration)"
   ]
  },
  {
   "cell_type": "code",
   "execution_count": null,
   "metadata": {
    "collapsed": true
   },
   "outputs": [],
   "source": [
    "in_file = open('1342.txt')\n",
    "def send_message(producer, topic):\n",
    "    for i in range(1,10):\n",
    "        producer.send_messages(topic, json.dumps({'words': in_file.readline()}))"
   ]
  },
  {
   "cell_type": "code",
   "execution_count": null,
   "metadata": {
    "collapsed": false
   },
   "outputs": [],
   "source": [
    "kafka = KafkaClient('kafka:9092')\n",
    "producer = SimpleProducer(kafka)\n",
    "timed_call(send_message, 7, producer, 'lines')"
   ]
  },
  {
   "cell_type": "code",
   "execution_count": null,
   "metadata": {
    "collapsed": true
   },
   "outputs": [],
   "source": []
  },
  {
   "cell_type": "code",
   "execution_count": null,
   "metadata": {
    "collapsed": true
   },
   "outputs": [],
   "source": []
  }
 ],
 "metadata": {
  "kernelspec": {
   "display_name": "Python 2",
   "language": "python",
   "name": "python2"
  },
  "language_info": {
   "codemirror_mode": {
    "name": "ipython",
    "version": 2
   },
   "file_extension": ".py",
   "mimetype": "text/x-python",
   "name": "python",
   "nbconvert_exporter": "python",
   "pygments_lexer": "ipython2",
   "version": "2.7.6"
  }
 },
 "nbformat": 4,
 "nbformat_minor": 0
}
